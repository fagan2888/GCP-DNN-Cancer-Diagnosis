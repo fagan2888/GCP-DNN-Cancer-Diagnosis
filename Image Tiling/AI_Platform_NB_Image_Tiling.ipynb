{
 "cells": [
  {
   "cell_type": "markdown",
   "metadata": {},
   "source": [
    "### Install openslide"
   ]
  },
  {
   "cell_type": "code",
   "execution_count": 3,
   "metadata": {},
   "outputs": [
    {
     "name": "stdout",
     "output_type": "stream",
     "text": [
      "Collecting openslide-python\n",
      "  Downloading https://files.pythonhosted.org/packages/26/5a/5b0adeabce81f018a9e4ffe9a419536064bc95c1b12194aff9b7e48f91f7/openslide-python-1.1.1.tar.gz (312kB)\n",
      "\u001b[K    100% |████████████████████████████████| 317kB 3.6MB/s eta 0:00:01\n",
      "\u001b[?25hCollecting Pillow (from openslide-python)\n",
      "  Downloading https://files.pythonhosted.org/packages/1b/08/ff620ef5a6128ee6e7a505f5716f81fce7b71f3a69e99646ebe64e0b9984/Pillow-6.2.1-cp27-cp27mu-manylinux1_x86_64.whl (2.1MB)\n",
      "\u001b[K    100% |████████████████████████████████| 2.1MB 589kB/s eta 0:00:01\n",
      "\u001b[?25hBuilding wheels for collected packages: openslide-python\n",
      "  Running setup.py bdist_wheel for openslide-python ... \u001b[?25ldone\n",
      "\u001b[?25h  Stored in directory: /home/jupyter/.cache/pip/wheels/56/44/7e/16c9fc72cfbf1bffe48676b6835843d21abcc56566e958e7d6\n",
      "Successfully built openslide-python\n",
      "Installing collected packages: Pillow, openslide-python\n",
      "Successfully installed Pillow-6.2.1 openslide-python-1.1.1\n"
     ]
    }
   ],
   "source": [
    "!pip install openslide-python"
   ]
  },
  {
   "cell_type": "code",
   "execution_count": 29,
   "metadata": {},
   "outputs": [
    {
     "name": "stdout",
     "output_type": "stream",
     "text": [
      "Reading package lists... Done\n",
      "Building dependency tree       \n",
      "Reading state information... Done\n",
      "The following additional packages will be installed:\n",
      "  javascript-common libjs-jquery libopenslide0 libwebpdemux2 libwebpmux2\n",
      "  python-blinker python-click python-colorama python-flask python-itsdangerous\n",
      "  python-jinja2 python-markupsafe python-openslide-examples python-openssl\n",
      "  python-pyinotify python-simplejson python-werkzeug python3-pil\n",
      "Suggested packages:\n",
      "  apache2 | lighttpd | httpd python-blinker-doc python-flask-doc\n",
      "  python-jinja2-doc python-openssl-doc python-openssl-dbg python-pyinotify-doc\n",
      "  ipython python-genshi python-lxml python-greenlet python-redis\n",
      "  python-pylibmc | python-memcache python-werkzeug-doc python-pil-doc\n",
      "  python3-pil-dbg\n",
      "The following NEW packages will be installed:\n",
      "  javascript-common libjs-jquery libopenslide0 libwebpdemux2 libwebpmux2\n",
      "  python-blinker python-click python-colorama python-flask python-itsdangerous\n",
      "  python-jinja2 python-markupsafe python-openslide-examples python-openssl\n",
      "  python-pyinotify python-simplejson python-werkzeug python3-openslide\n",
      "  python3-pil\n",
      "0 upgraded, 19 newly installed, 0 to remove and 0 not upgraded.\n",
      "Need to get 0 B/1,580 kB of archives.\n",
      "After this operation, 6,509 kB of additional disk space will be used.\n",
      "Selecting previously unselected package javascript-common.\n",
      "(Reading database ... 86963 files and directories currently installed.)\n",
      "Preparing to unpack .../00-javascript-common_11_all.deb ...\n",
      "Unpacking javascript-common (11) ...\n",
      "Selecting previously unselected package libjs-jquery.\n",
      "Preparing to unpack .../01-libjs-jquery_3.1.1-2+deb9u1_all.deb ...\n",
      "Unpacking libjs-jquery (3.1.1-2+deb9u1) ...\n",
      "Selecting previously unselected package libopenslide0.\n",
      "Preparing to unpack .../02-libopenslide0_3.4.1+dfsg-2_amd64.deb ...\n",
      "Unpacking libopenslide0 (3.4.1+dfsg-2) ...\n",
      "Selecting previously unselected package libwebpdemux2:amd64.\n",
      "Preparing to unpack .../03-libwebpdemux2_0.5.2-1_amd64.deb ...\n",
      "Unpacking libwebpdemux2:amd64 (0.5.2-1) ...\n",
      "Selecting previously unselected package libwebpmux2:amd64.\n",
      "Preparing to unpack .../04-libwebpmux2_0.5.2-1_amd64.deb ...\n",
      "Unpacking libwebpmux2:amd64 (0.5.2-1) ...\n",
      "Selecting previously unselected package python-blinker.\n",
      "Preparing to unpack .../05-python-blinker_1.3.dfsg2-1_all.deb ...\n",
      "Unpacking python-blinker (1.3.dfsg2-1) ...\n",
      "Selecting previously unselected package python-colorama.\n",
      "Preparing to unpack .../06-python-colorama_0.3.7-1_all.deb ...\n",
      "Unpacking python-colorama (0.3.7-1) ...\n",
      "Selecting previously unselected package python-click.\n",
      "Preparing to unpack .../07-python-click_6.6-1_all.deb ...\n",
      "Unpacking python-click (6.6-1) ...\n",
      "Selecting previously unselected package python-itsdangerous.\n",
      "Preparing to unpack .../08-python-itsdangerous_0.24+dfsg1-2_all.deb ...\n",
      "Unpacking python-itsdangerous (0.24+dfsg1-2) ...\n",
      "Selecting previously unselected package python-markupsafe.\n",
      "Preparing to unpack .../09-python-markupsafe_0.23-3_amd64.deb ...\n",
      "Unpacking python-markupsafe (0.23-3) ...\n",
      "Selecting previously unselected package python-jinja2.\n",
      "Preparing to unpack .../10-python-jinja2_2.8-1_all.deb ...\n",
      "Unpacking python-jinja2 (2.8-1) ...\n",
      "Selecting previously unselected package python-werkzeug.\n",
      "Preparing to unpack .../11-python-werkzeug_0.11.15+dfsg1-1_all.deb ...\n",
      "Unpacking python-werkzeug (0.11.15+dfsg1-1) ...\n",
      "Selecting previously unselected package python-flask.\n",
      "Preparing to unpack .../12-python-flask_0.12.1-1_all.deb ...\n",
      "Unpacking python-flask (0.12.1-1) ...\n",
      "Selecting previously unselected package python3-pil:amd64.\n",
      "Preparing to unpack .../13-python3-pil_4.0.0-4_amd64.deb ...\n",
      "Unpacking python3-pil:amd64 (4.0.0-4) ...\n",
      "Selecting previously unselected package python3-openslide.\n",
      "Preparing to unpack .../14-python3-openslide_1.1.1-2_amd64.deb ...\n",
      "Unpacking python3-openslide (1.1.1-2) ...\n",
      "Selecting previously unselected package python-openslide-examples.\n",
      "Preparing to unpack .../15-python-openslide-examples_1.1.1-2_all.deb ...\n",
      "Unpacking python-openslide-examples (1.1.1-2) ...\n",
      "Selecting previously unselected package python-openssl.\n",
      "Preparing to unpack .../16-python-openssl_16.2.0-1_all.deb ...\n",
      "Unpacking python-openssl (16.2.0-1) ...\n",
      "Selecting previously unselected package python-pyinotify.\n",
      "Preparing to unpack .../17-python-pyinotify_0.9.6-1_all.deb ...\n",
      "Unpacking python-pyinotify (0.9.6-1) ...\n",
      "Selecting previously unselected package python-simplejson.\n",
      "Preparing to unpack .../18-python-simplejson_3.10.0-1_amd64.deb ...\n",
      "Unpacking python-simplejson (3.10.0-1) ...\n",
      "Setting up python-simplejson (3.10.0-1) ...\n",
      "Setting up libjs-jquery (3.1.1-2+deb9u1) ...\n",
      "Setting up python-blinker (1.3.dfsg2-1) ...\n",
      "Setting up python-openssl (16.2.0-1) ...\n",
      "Setting up libwebpmux2:amd64 (0.5.2-1) ...\n",
      "Setting up python-colorama (0.3.7-1) ...\n",
      "Setting up python-markupsafe (0.23-3) ...\n",
      "Setting up python-werkzeug (0.11.15+dfsg1-1) ...\n",
      "Setting up python-pyinotify (0.9.6-1) ...\n",
      "Setting up libopenslide0 (3.4.1+dfsg-2) ...\n",
      "Processing triggers for libc-bin (2.24-11+deb9u4) ...\n",
      "ldconfig: /usr/lib/libnvinfer_plugin.so.5 is not a symbolic link\n",
      "\n",
      "ldconfig: /usr/lib/libnvparsers.so.5 is not a symbolic link\n",
      "\n",
      "ldconfig: /usr/lib/libnvonnxparser.so.0 is not a symbolic link\n",
      "\n",
      "ldconfig: /usr/lib/libnvinfer.so.5 is not a symbolic link\n",
      "\n",
      "ldconfig: /usr/lib/libnvonnxparser_runtime.so.0 is not a symbolic link\n",
      "\n",
      "Setting up libwebpdemux2:amd64 (0.5.2-1) ...\n",
      "Setting up javascript-common (11) ...\n",
      "Setting up python-itsdangerous (0.24+dfsg1-2) ...\n",
      "Setting up python3-pil:amd64 (4.0.0-4) ...\n",
      "Setting up python-jinja2 (2.8-1) ...\n",
      "Setting up python-click (6.6-1) ...\n",
      "Setting up python3-openslide (1.1.1-2) ...\n",
      "Setting up python-flask (0.12.1-1) ...\n",
      "Setting up python-openslide-examples (1.1.1-2) ...\n",
      "Processing triggers for libc-bin (2.24-11+deb9u4) ...\n",
      "ldconfig: /usr/lib/libnvinfer_plugin.so.5 is not a symbolic link\n",
      "\n",
      "ldconfig: /usr/lib/libnvparsers.so.5 is not a symbolic link\n",
      "\n",
      "ldconfig: /usr/lib/libnvonnxparser.so.0 is not a symbolic link\n",
      "\n",
      "ldconfig: /usr/lib/libnvinfer.so.5 is not a symbolic link\n",
      "\n",
      "ldconfig: /usr/lib/libnvonnxparser_runtime.so.0 is not a symbolic link\n",
      "\n"
     ]
    }
   ],
   "source": [
    "!sudo apt-get -y install python3-openslide"
   ]
  },
  {
   "cell_type": "markdown",
   "metadata": {},
   "source": [
    "### Clone the HistCNN repo"
   ]
  },
  {
   "cell_type": "code",
   "execution_count": 5,
   "metadata": {},
   "outputs": [
    {
     "name": "stdout",
     "output_type": "stream",
     "text": [
      "Cloning into 'HistCNN'...\n",
      "remote: Enumerating objects: 89, done.\u001b[K\n",
      "remote: Counting objects: 100% (89/89), done.\u001b[K\n",
      "remote: Compressing objects: 100% (63/63), done.\u001b[K\n",
      "remote: Total 242 (delta 51), reused 49 (delta 25), pack-reused 153\u001b[K\n",
      "Receiving objects: 100% (242/242), 91.51 MiB | 42.53 MiB/s, done.\n",
      "Resolving deltas: 100% (122/122), done.\n"
     ]
    }
   ],
   "source": [
    "!git clone https://github.com/javadnoorb/HistCNN.git"
   ]
  },
  {
   "cell_type": "markdown",
   "metadata": {},
   "source": [
    "### Import data to the current folder"
   ]
  },
  {
   "cell_type": "code",
   "execution_count": 6,
   "metadata": {},
   "outputs": [
    {
     "name": "stdout",
     "output_type": "stream",
     "text": [
      "/home/jupyter/sandbox-lx/HistCNN/src\n"
     ]
    }
   ],
   "source": [
    "%cd ./HistCNN/src"
   ]
  },
  {
   "cell_type": "code",
   "execution_count": 30,
   "metadata": {},
   "outputs": [],
   "source": [
    "from histcnn import tile_image"
   ]
  },
  {
   "cell_type": "code",
   "execution_count": 18,
   "metadata": {},
   "outputs": [
    {
     "name": "stdout",
     "output_type": "stream",
     "text": [
      "Copying gs://deep-nexus-tcga-raw/CHOL/CHOL_all_images/TCGA-3X-AAVA-01A-01-TSA.11217DC9-A3A3-4676-905A-3287954CA3BE.svs...\n",
      "Copying gs://deep-nexus-tcga-raw/CHOL/CHOL_all_images/TCGA-3X-AAV9-01A-07-TS7.38564686-5D08-4066-98EE-F1E5A4FB85F1.svs...\n",
      "Copying gs://deep-nexus-tcga-raw/CHOL/CHOL_all_images/TCGA-3X-AAVB-01A-03-TSC.7C63E346-3B04-474A-AA94-E37B57D2263B.svs...\n",
      "Copying gs://deep-nexus-tcga-raw/CHOL/CHOL_all_images/TCGA-3X-AAVC-01A-02-TSB.0FCFEC9B-166D-4CD9-B151-463144AB039C.svs...\n",
      "Copying gs://deep-nexus-tcga-raw/CHOL/CHOL_all_images/TCGA-3X-AAVE-01A-01-TS1.0AA02C15-A873-446F-B290-5952E2C1D1BE.svs...\n",
      "Copying gs://deep-nexus-tcga-raw/CHOL/CHOL_all_images/TCGA-4G-AAZF-01A-01-TS1.931060C2-F13F-43ED-A8D2-44A005B9E545.svs...\n",
      "Copying gs://deep-nexus-tcga-raw/CHOL/CHOL_all_images/TCGA-4G-AAZF-11A-01-TS1.C2861329-3F68-4BEF-BA54-ECB5251ACB1A.svs...\n",
      "Copying gs://deep-nexus-tcga-raw/CHOL/CHOL_all_images/TCGA-4G-AAZR-11A-01-TS1.3F01FAF4-E56C-4D12-8EF3-31960B47E00A.svs...\n",
      "Copying gs://deep-nexus-tcga-raw/CHOL/CHOL_all_images/TCGA-4G-AAZG-01A-01-TS1.2831B8F1-9788-417C-8288-B105880E5F92.svs...\n",
      "Copying gs://deep-nexus-tcga-raw/CHOL/CHOL_all_images/TCGA-4G-AAZR-01A-01-TS1.26D227F7-7627-43AF-A684-5D0BF0253E00.svs...\n",
      "Copying gs://deep-nexus-tcga-raw/CHOL/CHOL_all_images/TCGA-4G-AAZO-11A-01-TS1.8AC8DBDE-0535-4232-B785-C355BA604E61.svs...\n",
      "Copying gs://deep-nexus-tcga-raw/CHOL/CHOL_all_images/TCGA-5A-A8ZF-01A-01-TSA.184BA819-6C0C-4E68-8508-7DB42A183A76.svs...\n",
      "Copying gs://deep-nexus-tcga-raw/CHOL/CHOL_all_images/TCGA-4G-AAZT-11A-01-TS1.D2B6EE2B-B0BF-4262-9E08-62B67ABD9C42.svs...\n",
      "Copying gs://deep-nexus-tcga-raw/CHOL/CHOL_all_images/TCGA-4G-AAZO-01A-01-TS1.6B4F7D2A-3AD9-4BA0-92AE-020618504740.svs...\n",
      "Copying gs://deep-nexus-tcga-raw/CHOL/CHOL_all_images/TCGA-W5-AA2I-11A-01-TSA.A5550410-60AE-4379-9D50-C7FC484CA9BC.svs...\n",
      "Copying gs://deep-nexus-tcga-raw/CHOL/CHOL_all_images/TCGA-W5-AA2G-01A-01-TSA.218C4E4D-766E-4CA4-8E27-ADFE132C3F1F.svs...\n",
      "Copying gs://deep-nexus-tcga-raw/CHOL/CHOL_all_images/TCGA-W5-AA2I-01A-03-TSC.5BD2E12B-5F9F-4B24-B516-A026BAA06C71.svs...\n",
      "Copying gs://deep-nexus-tcga-raw/CHOL/CHOL_all_images/TCGA-W5-AA2H-01A-03-TSC.0B5D214B-4E40-4CE3-AFDF-D435754E6A34.svs...\n",
      "Copying gs://deep-nexus-tcga-raw/CHOL/CHOL_all_images/TCGA-5A-A8ZG-01A-01-TS1.694DE97B-58AF-4F94-961B-5F3D215F53F0.svs...\n",
      "Copying gs://deep-nexus-tcga-raw/CHOL/CHOL_all_images/TCGA-4G-AAZT-01A-01-TS1.0E610786-FBA0-4BD8-A6F8-8B2707070992.svs...\n",
      "Copying gs://deep-nexus-tcga-raw/CHOL/CHOL_all_images/TCGA-W5-AA2J-01A-03-TSC.28A3ECB6-8103-4083-8663-E06029B1819B.svs...\n",
      "Copying gs://deep-nexus-tcga-raw/CHOL/CHOL_all_images/TCGA-W5-AA2K-01A-01-TSA.8D5B728E-7C86-46BA-8620-4579225A2E99.svs...\n",
      "Copying gs://deep-nexus-tcga-raw/CHOL/CHOL_all_images/TCGA-W5-AA2M-01A-01-TS1.1D5EF56C-B323-4C6E-831E-CE6C6F5B5809.svs...\n",
      "Copying gs://deep-nexus-tcga-raw/CHOL/CHOL_all_images/TCGA-W5-AA2O-01A-01-TSA.90E7868E-0605-43FD-A4A5-A2C0A6AC3AEE.svs...\n",
      "Copying gs://deep-nexus-tcga-raw/CHOL/CHOL_all_images/TCGA-W5-AA2O-11A-01-TSA.363CC77B-9C52-4E8E-8154-FD3A5870AD8E.svs...\n",
      "Copying gs://deep-nexus-tcga-raw/CHOL/CHOL_all_images/TCGA-W5-AA2Q-01A-01-TSA.1602441F-2B92-467C-A64E-9C3B15453794.svs...\n",
      "Copying gs://deep-nexus-tcga-raw/CHOL/CHOL_all_images/TCGA-W5-AA2Q-11A-01-TSA.32060CDF-78E2-4795-888B-8FF068B7C578.svs...\n",
      "Copying gs://deep-nexus-tcga-raw/CHOL/CHOL_all_images/TCGA-W5-AA2R-01A-01-TSA.92296CAC-C184-438F-8282-9DC3786C0412.svs...\n",
      "Copying gs://deep-nexus-tcga-raw/CHOL/CHOL_all_images/TCGA-W5-AA2R-11A-01-TS1.32EE025C-FFAD-4ED0-8D0E-8BCDC0FA44A9.svs...\n",
      "Copying gs://deep-nexus-tcga-raw/CHOL/CHOL_all_images/TCGA-W5-AA2T-01A-01-TS1.F9D87772-3039-4DF4-B7C7-66B9DCA8FEF9.svs...\n",
      "Copying gs://deep-nexus-tcga-raw/CHOL/CHOL_all_images/TCGA-W5-AA2T-11A-01-TS1.2D5FEFBA-7424-45EB-BF51-7253A6559688.svs...\n",
      "Copying gs://deep-nexus-tcga-raw/CHOL/CHOL_all_images/TCGA-W5-AA2U-01A-01-TS1.62A11EF4-41F3-4F13-A408-20D1BCB6DED8.svs...\n",
      "Copying gs://deep-nexus-tcga-raw/CHOL/CHOL_all_images/TCGA-W5-AA2U-11A-01-TS1.316AF912-A850-4280-BE94-4D5CA1517468.svs...\n",
      "Copying gs://deep-nexus-tcga-raw/CHOL/CHOL_all_images/TCGA-W5-AA2W-01A-01-TS1.2BE0BA42-3D4D-485B-B3EA-B721F2018FF5.svs...\n",
      "Copying gs://deep-nexus-tcga-raw/CHOL/CHOL_all_images/TCGA-W5-AA2X-01A-01-TS1.C8860CDC-4358-4ED6-839A-E551BD2CBC21.svs...\n",
      "Copying gs://deep-nexus-tcga-raw/CHOL/CHOL_all_images/TCGA-W5-AA2X-11A-01-TSA.E81ED3CE-0609-40EF-BAB9-831BCC1880CE.svs...\n",
      "Copying gs://deep-nexus-tcga-raw/CHOL/CHOL_all_images/TCGA-W5-AA2Z-01A-01-TS1.7E99B675-59B0-4A6D-AAB0-40999E475316.svs...\n",
      "Copying gs://deep-nexus-tcga-raw/CHOL/CHOL_all_images/TCGA-W5-AA2Z-11A-01-TSA.2933F8FC-AE3E-4DF4-B469-ACC4AA7F5D7C.svs...\n",
      "Copying gs://deep-nexus-tcga-raw/CHOL/CHOL_all_images/TCGA-W5-AA30-01A-03-TS3.43CEE268-44B1-49C6-AA78-0EFC959FEE72.svs...\n",
      "Copying gs://deep-nexus-tcga-raw/CHOL/CHOL_all_images/TCGA-W5-AA30-11A-01-TSA.21DF9099-AB85-42F2-8027-4233D1308300.svs...\n",
      "Copying gs://deep-nexus-tcga-raw/CHOL/CHOL_all_images/TCGA-W5-AA31-01A-01-TS1.E821D3A3-4E10-4336-9E5D-8D8FEE937B9B.svs...\n",
      "Copying gs://deep-nexus-tcga-raw/CHOL/CHOL_all_images/TCGA-W5-AA31-11A-01-TS1.DDD15A26-27AE-4C72-AB59-5F8DFD3346B2.svs...\n",
      "Copying gs://deep-nexus-tcga-raw/CHOL/CHOL_all_images/TCGA-W5-AA33-01A-01-TS1.A6CE040F-F2D8-4325-A05E-31A4F793843F.svs...\n",
      "Copying gs://deep-nexus-tcga-raw/CHOL/CHOL_all_images/TCGA-W5-AA33-11A-01-TSA.1DB69B70-BB4A-408D-981D-D4CB42932183.svs...\n",
      "Copying gs://deep-nexus-tcga-raw/CHOL/CHOL_all_images/TCGA-W5-AA34-01A-01-TS1.F296E1B4-AC9C-4145-B473-0AE2FAF71B06.svs...\n",
      "Copying gs://deep-nexus-tcga-raw/CHOL/CHOL_all_images/TCGA-W5-AA34-11A-01-TSA.273F93C0-D071-48F0-8EF8-94C86EC75A68.svs...\n",
      "Copying gs://deep-nexus-tcga-raw/CHOL/CHOL_all_images/TCGA-W5-AA36-01A-01-TS1.6386EE7C-0C81-4B8F-B76D-5479A5BC7850.svs...\n",
      "Copying gs://deep-nexus-tcga-raw/CHOL/CHOL_all_images/TCGA-W5-AA38-01A-01-TSA.87432545-5F32-411B-942A-E4ADF8CC6AC3.svs...\n",
      "Copying gs://deep-nexus-tcga-raw/CHOL/CHOL_all_images/TCGA-W5-AA39-01A-01-TS1.69BA9FA7-0E57-4862-8A11-62570DF1A8C0.svs...\n",
      "Copying gs://deep-nexus-tcga-raw/CHOL/CHOL_all_images/TCGA-W6-AA0S-01A-01-TSA.B5B0E8A3-CF2B-4C64-8BB9-2735170C19D1.svs...\n",
      "Copying gs://deep-nexus-tcga-raw/CHOL/CHOL_all_images/TCGA-W6-AA0T-01A-03-TSC.42C3C6AD-E2C4-4BE7-A16C-21AB9BFB116B.svs...\n",
      "Copying gs://deep-nexus-tcga-raw/CHOL/CHOL_all_images/TCGA-W7-A93N-01A-01-TSA.962EF446-B489-4E32-B8A7-F4500984EC30.svs...\n",
      "Copying gs://deep-nexus-tcga-raw/CHOL/CHOL_all_images/TCGA-W7-A93N-11A-01-TSA.A9BEAE46-78BD-4F2F-AF5B-8FF05C3C4811.svs...\n",
      "Copying gs://deep-nexus-tcga-raw/CHOL/CHOL_all_images/TCGA-W7-A93O-01A-03-TS3.E75E41B9-352F-45AB-A58B-1088D9FE39BC.svs...\n",
      "Copying gs://deep-nexus-tcga-raw/CHOL/CHOL_all_images/TCGA-W7-A93O-11A-01-TSA.92CB923D-7087-429D-9199-CBB3FFBA3B48.svs...\n",
      "Copying gs://deep-nexus-tcga-raw/CHOL/CHOL_all_images/TCGA-W7-A93P-01A-01-TSA.BC3D724D-9544-4F38-BF0C-3518EC922CC2.svs...\n",
      "Copying gs://deep-nexus-tcga-raw/CHOL/CHOL_all_images/TCGA-W7-A93P-11A-01-TSA.9EF4E8AF-F9D0-4D78-9889-931D62FF34FE.svs...\n",
      "Copying gs://deep-nexus-tcga-raw/CHOL/CHOL_all_images/TCGA-WD-A7RX-01A-01-TSA.45E6186F-0AEC-4403-AFE9-0B8630E8D225.svs...\n",
      "Copying gs://deep-nexus-tcga-raw/CHOL/CHOL_all_images/TCGA-YR-A95A-01A-01-TSA.81FA50C6-E1D0-49E0-9E01-8389EF99ED76.svs...\n",
      "Copying gs://deep-nexus-tcga-raw/CHOL/CHOL_all_images/TCGA-ZD-A8I3-01A-01-TSA.0925713D-CE8D-4090-8886-DD6C2693E020.svs...\n",
      "Copying gs://deep-nexus-tcga-raw/CHOL/CHOL_all_images/TCGA-ZH-A8Y1-01A-01-TS1.E8568997-1F13-4A79-8DAE-3F76055A4C08.svs...\n",
      "Copying gs://deep-nexus-tcga-raw/CHOL/CHOL_all_images/TCGA-ZH-A8Y2-01A-01-TS1.9B298170-0B7A-4685-8EA3-3A2040AD9FFB.svs...\n",
      "Copying gs://deep-nexus-tcga-raw/CHOL/CHOL_all_images/TCGA-ZH-A8Y3-01A-01-TS1.3E1F5F39-FB85-4443-A8EA-072989E3EEB2.svs...\n",
      "Copying gs://deep-nexus-tcga-raw/CHOL/CHOL_all_images/TCGA-ZH-A8Y4-01A-01-TS1.DA0F8F25-4351-489B-B2A5-1C67542765AF.svs...\n",
      "Copying gs://deep-nexus-tcga-raw/CHOL/CHOL_all_images/TCGA-ZH-A8Y5-01A-01-TS1.7D6C4039-CDA3-4CB3-B040-D4DBB1FA9105.svs...\n",
      "Copying gs://deep-nexus-tcga-raw/CHOL/CHOL_all_images/TCGA-ZH-A8Y6-01A-01-TS1.2E276578-18E5-41AF-86E8-55761DD0AEF9.svs...\n",
      "Copying gs://deep-nexus-tcga-raw/CHOL/CHOL_all_images/TCGA-ZH-A8Y7-01A-02-TS2.44E6C687-F7BE-43EE-A0AE-F45392A4A3BB.svs...\n",
      "Copying gs://deep-nexus-tcga-raw/CHOL/CHOL_all_images/TCGA-ZH-A8Y8-01A-05-TSE.B924DE00-D688-4982-AE32-20BA28DEAFB0.svs...\n",
      "Copying gs://deep-nexus-tcga-raw/CHOL/CHOL_all_images/TCGA-ZK-AAYZ-01A-01-TSA.6E5B192E-FAEE-4E66-9008-5FC9FE76455B.svs...\n",
      "Copying gs://deep-nexus-tcga-raw/CHOL/CHOL_all_images/TCGA-ZU-A8S4-01A-01-TS1.741B0E52-9B2F-477E-ABA6-763B452D8985.svs...\n",
      "Copying gs://deep-nexus-tcga-raw/CHOL/CHOL_all_images/TCGA-ZU-A8S4-11A-01-TS1.D600B84A-256E-49B6-B88B-A17CB1F20CAD.svs...\n",
      "\\ [71/71 files][ 16.4 GiB/ 16.4 GiB] 100% Done  52.7 MiB/s ETA 00:00:00         \n",
      "Operation completed over 71 objects/16.4 GiB.                                    \n"
     ]
    }
   ],
   "source": [
    "!gsutil -m cp gs://deep-nexus-tcga-raw/CHOL/CHOL_all_images/*.svs /home/jupyter/sandbox-lx/sample_data"
   ]
  },
  {
   "cell_type": "markdown",
   "metadata": {},
   "source": [
    "### Set input and output path"
   ]
  },
  {
   "cell_type": "code",
   "execution_count": 19,
   "metadata": {},
   "outputs": [],
   "source": [
    "import glob\n",
    "img_list = glob.glob(\"/home/jupyter/sandbox-lx/sample_data/*.svs\")"
   ]
  },
  {
   "cell_type": "code",
   "execution_count": 20,
   "metadata": {},
   "outputs": [
    {
     "data": {
      "text/plain": [
       "71"
      ]
     },
     "execution_count": 20,
     "metadata": {},
     "output_type": "execute_result"
    }
   ],
   "source": [
    "len(img_list)"
   ]
  },
  {
   "cell_type": "code",
   "execution_count": 21,
   "metadata": {},
   "outputs": [],
   "source": [
    "outdir = '/home/jupyter/sandbox-lx/image'"
   ]
  },
  {
   "cell_type": "markdown",
   "metadata": {},
   "source": [
    "### Tile the images"
   ]
  },
  {
   "cell_type": "code",
   "execution_count": null,
   "metadata": {},
   "outputs": [
    {
     "name": "stdout",
     "output_type": "stream",
     "text": [
      "|****************************************| 100.0% - 3.4 / 3.4 minutes - (177/178,59/60)\n",
      "\n",
      "|****************************************| 100.0% - 2.8 / 2.8 minutes - (174/175,50/51)\n",
      "\n",
      "|****************************************| 100.0% - 4.1 / 4.1 minutes - (228/229,57/58)\n",
      "\n",
      "|****************************************| 100.0% - 2.0 / 2.0 minutes - (162/163,39/40)\n",
      "\n",
      "|****************************************| 100.0% - 3.9 / 3.9 minutes - (170/171,75/76)\n",
      "\n",
      "|****************************************| 100.0% - 0.8 / 0.8 minutes - (92/93,26/27)\n",
      "\n",
      "|****************************************| 100.0% - 3.3 / 3.3 minutes - (193/194,56/57)\n",
      "\n",
      "|****************************************| 100.0% - 0.6 / 0.6 minutes - (88/89,24/25)\n",
      "\n",
      "|****************************************| 100.0% - 2.7 / 2.7 minutes - (185/186,47/48)\n",
      "\n",
      "|****************************************| 100.0% - 5.1 / 5.1 minutes - (212/213,80/81)\n",
      "\n",
      "|****************************************| 100.0% - 0.8 / 0.8 minutes - (96/97,26/27)\n",
      "\n",
      "|****************************************| 100.0% - 2.5 / 2.5 minutes - (170/171,46/47)\n",
      "\n",
      "|****************************************| 100.0% - 2.4 / 2.4 minutes - (166/167,45/46)\n",
      "\n",
      "|****************************************| 100.0% - 0.7 / 0.7 minutes - (73/74,31/32)\n",
      "\n",
      "|****************************************| 100.0% - 6.1 / 6.1 minutes - (232/233,84/85)\n",
      "\n",
      "|****************************************| 100.0% - 3.4 / 3.4 minutes - (212/213,50/51)\n",
      "\n",
      "|****************************************| 100.0% - 3.2 / 3.2 minutes - (209/210,48/49)\n",
      "\n",
      "|****************************************| 100.0% - 0.4 / 0.4 minutes - (77/78,16/17)\n",
      "\n",
      "|****************************************| 100.0% - 2.7 / 2.7 minutes - (158/159,53/54)\n",
      "\n",
      "|****************************************| 100.0% - 2.6 / 2.6 minutes - (177/178,48/49)\n",
      "\n",
      "|****************************************| 100.0% - 0.5 / 0.5 minutes - (81/82,18/19)\n",
      "\n",
      "|****************************************| 100.0% - 3.1 / 3.1 minutes - (181/182,54/55)\n",
      "\n",
      "|****************************************| 100.0% - 3.4 / 3.4 minutes - (205/206,52/53)\n",
      "\n",
      "|****************************************| 100.0% - 5.4 / 5.4 minutes - (255/256,67/68)\n",
      "\n",
      "|****************************************| 100.0% - 4.3 / 4.3 minutes - (166/167,79/80)\n",
      "\n",
      "|****************************************| 100.0% - 1.1 / 1.1 minutes - (112/113,33/34)\n",
      "\n",
      "|****************************************| 100.0% - 5.1 / 5.1 minutes - (193/194,83/84)\n",
      "\n",
      "|****************************************| 100.0% - 4.5 / 4.5 minutes - (224/225,62/63)\n",
      "\n",
      "|****************************************| 100.0% - 3.0 / 3.0 minutes - (209/210,42/43)\n",
      "\n",
      "|****************************************| 100.0% - 1.8 / 1.8 minutes - (123/124,46/47)\n",
      "\n",
      "|****************************************| 100.0% - 2.5 / 2.5 minutes - (174/175,45/46)\n",
      "\n",
      "|****************************************| 100.0% - 5.4 / 5.4 minutes - (193/194,90/91)\n",
      "\n",
      "|****************************************| 100.0% - 0.9 / 0.9 minutes - (100/101,29/30)\n",
      "\n",
      "|****************************************| 100.0% - 2.5 / 2.5 minutes - (185/186,44/45)\n",
      "\n",
      "|****************************************| 100.0% - 1.2 / 1.2 minutes - (147/148,28/29)\n",
      "\n",
      "|****************************************| 100.0% - 1.2 / 1.2 minutes - (104/105,40/41)\n",
      "\n",
      "|****************************************| 100.0% - 2.1 / 2.1 minutes - (146/147,45/46)\n",
      "\n",
      "|****************************************| 100.0% - 0.8 / 0.8 minutes - (84/85,28/29)\n",
      "\n",
      "|****************************************| 100.0% - 3.6 / 3.6 minutes - (185/186,63/64)\n",
      "\n",
      "|****************************************| 100.0% - 4.2 / 4.2 minutes - (224/225,59/60)\n",
      "\n",
      "|****************************************| 100.0% - 4.3 / 4.3 minutes - (189/190,76/77)\n",
      "\n",
      "|****************************************| 100.0% - 3.1 / 3.1 minutes - (139/140,72/73)\n",
      "\n",
      "|****************************************| 100.0% - 3.0 / 3.0 minutes - (197/198,48/49)\n",
      "\n",
      "|****************************************| 100.0% - 1.6 / 1.6 minutes - (146/147,34/35)\n",
      "\n",
      "|****************************************| 100.0% - 4.8 / 4.8 minutes - (263/264,59/60)\n",
      "\n",
      "|****************************************| 100.0% - 5.8 / 5.8 minutes - (181/182,109/110)\n",
      "\n",
      "|*****************************           | 73.5% - 1.5 / 2.0 minutes - (136/186,28/38)"
     ]
    }
   ],
   "source": [
    "for file in img_list:\n",
    "  tile_image.TileSVS(file, outdir)"
   ]
  },
  {
   "cell_type": "markdown",
   "metadata": {},
   "source": [
    "### Check tiled images in each folder"
   ]
  },
  {
   "cell_type": "code",
   "execution_count": 52,
   "metadata": {},
   "outputs": [],
   "source": [
    "folder_list = glob.glob(\"/home/jupyter/sandbox-lx/image/*\")"
   ]
  },
  {
   "cell_type": "code",
   "execution_count": 55,
   "metadata": {},
   "outputs": [
    {
     "data": {
      "text/plain": [
       "[1796,\n",
       " 1494,\n",
       " 3217,\n",
       " 2116,\n",
       " 2787,\n",
       " 724,\n",
       " 2272,\n",
       " 427,\n",
       " 2115,\n",
       " 2317,\n",
       " 486,\n",
       " 2561,\n",
       " 2451,\n",
       " 531,\n",
       " 4401,\n",
       " 2756,\n",
       " 2452,\n",
       " 307,\n",
       " 2306,\n",
       " 1391,\n",
       " 361,\n",
       " 2465,\n",
       " 3249,\n",
       " 4659,\n",
       " 3035,\n",
       " 794,\n",
       " 5185,\n",
       " 4528,\n",
       " 1797,\n",
       " 873,\n",
       " 2080,\n",
       " 4083,\n",
       " 691,\n",
       " 1449,\n",
       " 341,\n",
       " 675,\n",
       " 1449,\n",
       " 651,\n",
       " 2343,\n",
       " 4510,\n",
       " 2397,\n",
       " 1967,\n",
       " 1393,\n",
       " 885,\n",
       " 4398,\n",
       " 3144,\n",
       " 1017,\n",
       " 801,\n",
       " 377,\n",
       " 2321,\n",
       " 4259,\n",
       " 1490,\n",
       " 262,\n",
       " 2987,\n",
       " 2036,\n",
       " 451,\n",
       " 2976,\n",
       " 1231,\n",
       " 387,\n",
       " 2139,\n",
       " 3564,\n",
       " 2936,\n",
       " 2998,\n",
       " 2901,\n",
       " 710,\n",
       " 2091,\n",
       " 137,\n",
       " 992,\n",
       " 389,\n",
       " 1471,\n",
       " 4424]"
      ]
     },
     "execution_count": 55,
     "metadata": {},
     "output_type": "execute_result"
    }
   ],
   "source": [
    "len_list = []\n",
    "for folder in folder_list:\n",
    "    all_tiled_img = glob.glob(folder+\"/tiles/*\")\n",
    "    len_list.append(len(all_tiled_img))\n",
    "len_list"
   ]
  },
  {
   "cell_type": "markdown",
   "metadata": {},
   "source": [
    "### Write data to Cloud Bucket"
   ]
  },
  {
   "cell_type": "code",
   "execution_count": 8,
   "metadata": {},
   "outputs": [],
   "source": [
    "tiles_list = glob.glob(\"/home/jupyter/sandbox-lx/image/*\")"
   ]
  },
  {
   "cell_type": "code",
   "execution_count": 10,
   "metadata": {},
   "outputs": [],
   "source": [
    "import subprocess"
   ]
  },
  {
   "cell_type": "code",
   "execution_count": null,
   "metadata": {},
   "outputs": [],
   "source": [
    "for tiles in tiles_list:\n",
    "    input_path = tiles + \"/tiles/*\"\n",
    "    output_path = \"gs://deep-nexus/TCGA/tcga-chol/\" + tiles.split(\"/\")[-1][:-4]\n",
    "    subprocess.call(\"gsutil -m cp {} {}\".format(input_path, output_path), shell=True)"
   ]
  },
  {
   "cell_type": "code",
   "execution_count": null,
   "metadata": {},
   "outputs": [],
   "source": [
    "#!gsutil -m cp -r '/home/jupyter/sandbox-lx/image/*' gs://deep-nexus/TCGA/tcga-chol"
   ]
  }
 ],
 "metadata": {
  "kernelspec": {
   "display_name": "Python 3",
   "language": "python",
   "name": "python3"
  },
  "language_info": {
   "codemirror_mode": {
    "name": "ipython",
    "version": 3
   },
   "file_extension": ".py",
   "mimetype": "text/x-python",
   "name": "python",
   "nbconvert_exporter": "python",
   "pygments_lexer": "ipython3",
   "version": "3.7.3"
  }
 },
 "nbformat": 4,
 "nbformat_minor": 4
}
