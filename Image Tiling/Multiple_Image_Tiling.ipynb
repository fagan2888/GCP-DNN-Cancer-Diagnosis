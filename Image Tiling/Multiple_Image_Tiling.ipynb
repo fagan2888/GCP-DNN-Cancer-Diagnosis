{
  "nbformat": 4,
  "nbformat_minor": 0,
  "metadata": {
    "colab": {
      "name": "Image_Tiling.ipynb",
      "provenance": [],
      "collapsed_sections": []
    },
    "kernelspec": {
      "name": "python3",
      "display_name": "Python 3"
    }
  },
  "cells": [
    {
      "cell_type": "markdown",
      "metadata": {
        "id": "hO7xKieRpewh",
        "colab_type": "text"
      },
      "source": [
        "## Module Loading"
      ]
    },
    {
      "cell_type": "code",
      "metadata": {
        "id": "rjPGWZafk8h8",
        "colab_type": "code",
        "outputId": "89d00644-999e-456c-9d77-03e9a894b589",
        "colab": {
          "base_uri": "https://localhost:8080/",
          "height": 245
        }
      },
      "source": [
        "!pip install openslide-python"
      ],
      "execution_count": 1,
      "outputs": [
        {
          "output_type": "stream",
          "text": [
            "Collecting openslide-python\n",
            "\u001b[?25l  Downloading https://files.pythonhosted.org/packages/26/5a/5b0adeabce81f018a9e4ffe9a419536064bc95c1b12194aff9b7e48f91f7/openslide-python-1.1.1.tar.gz (312kB)\n",
            "\u001b[K     |████████████████████████████████| 317kB 3.5MB/s \n",
            "\u001b[?25hRequirement already satisfied: Pillow in /usr/local/lib/python3.6/dist-packages (from openslide-python) (4.3.0)\n",
            "Requirement already satisfied: olefile in /usr/local/lib/python3.6/dist-packages (from Pillow->openslide-python) (0.46)\n",
            "Building wheels for collected packages: openslide-python\n",
            "  Building wheel for openslide-python (setup.py) ... \u001b[?25l\u001b[?25hdone\n",
            "  Created wheel for openslide-python: filename=openslide_python-1.1.1-cp36-cp36m-linux_x86_64.whl size=27368 sha256=5939e730f93551bde932eac4ff9d768415cd196e393078457292ec35cccb3036\n",
            "  Stored in directory: /root/.cache/pip/wheels/56/44/7e/16c9fc72cfbf1bffe48676b6835843d21abcc56566e958e7d6\n",
            "Successfully built openslide-python\n",
            "Installing collected packages: openslide-python\n",
            "Successfully installed openslide-python-1.1.1\n"
          ],
          "name": "stdout"
        }
      ]
    },
    {
      "cell_type": "code",
      "metadata": {
        "id": "0Fnm5uKOmGfA",
        "colab_type": "code",
        "outputId": "dca6670c-ddbb-410b-f374-87fdf55ef7ee",
        "colab": {
          "base_uri": "https://localhost:8080/",
          "height": 1000
        }
      },
      "source": [
        "!apt-get install python3-openslide"
      ],
      "execution_count": 2,
      "outputs": [
        {
          "output_type": "stream",
          "text": [
            "Reading package lists... Done\n",
            "Building dependency tree       \n",
            "Reading state information... Done\n",
            "The following additional packages will be installed:\n",
            "  javascript-common libjs-jquery libopenslide0 python-asn1crypto\n",
            "  python-blinker python-cffi-backend python-click python-colorama\n",
            "  python-cryptography python-enum34 python-flask python-idna python-ipaddress\n",
            "  python-itsdangerous python-jinja2 python-markupsafe\n",
            "  python-openslide-examples python-openssl python-pkg-resources\n",
            "  python-pyinotify python-simplejson python-six python-werkzeug\n",
            "  python3-olefile python3-pil\n",
            "Suggested packages:\n",
            "  apache2 | lighttpd | httpd python-blinker-doc python-cryptography-doc\n",
            "  python-cryptography-vectors python-enum34-doc python-flask-doc\n",
            "  python-jinja2-doc python-openssl-doc python-openssl-dbg python-setuptools\n",
            "  python-pyinotify-doc ipython python-genshi python-lxml python-greenlet\n",
            "  python-redis python-pylibmc | python-memcache python-termcolor\n",
            "  python-watchdog python-werkzeug-doc python-pil-doc python3-pil-dbg\n",
            "The following NEW packages will be installed:\n",
            "  javascript-common libjs-jquery libopenslide0 python-asn1crypto\n",
            "  python-blinker python-cffi-backend python-click python-colorama\n",
            "  python-cryptography python-enum34 python-flask python-idna python-ipaddress\n",
            "  python-itsdangerous python-jinja2 python-markupsafe\n",
            "  python-openslide-examples python-openssl python-pkg-resources\n",
            "  python-pyinotify python-simplejson python-six python-werkzeug\n",
            "  python3-olefile python3-openslide python3-pil\n",
            "0 upgraded, 26 newly installed, 0 to remove and 8 not upgraded.\n",
            "Need to get 1,940 kB of archives.\n",
            "After this operation, 9,490 kB of additional disk space will be used.\n",
            "Get:1 http://archive.ubuntu.com/ubuntu bionic/main amd64 javascript-common all 11 [6,066 B]\n",
            "Get:2 http://archive.ubuntu.com/ubuntu bionic/main amd64 libjs-jquery all 3.2.1-1 [152 kB]\n",
            "Get:3 http://archive.ubuntu.com/ubuntu bionic/universe amd64 libopenslide0 amd64 3.4.1+dfsg-2 [79.8 kB]\n",
            "Get:4 http://archive.ubuntu.com/ubuntu bionic/main amd64 python-asn1crypto all 0.24.0-1 [72.7 kB]\n",
            "Get:5 http://archive.ubuntu.com/ubuntu bionic/main amd64 python-blinker all 1.4+dfsg1-0.1 [13.0 kB]\n",
            "Get:6 http://archive.ubuntu.com/ubuntu bionic/main amd64 python-cffi-backend amd64 1.11.5-1 [63.4 kB]\n",
            "Get:7 http://archive.ubuntu.com/ubuntu bionic/main amd64 python-colorama all 0.3.7-1 [22.6 kB]\n",
            "Get:8 http://archive.ubuntu.com/ubuntu bionic/main amd64 python-click all 6.7-3 [56.4 kB]\n",
            "Get:9 http://archive.ubuntu.com/ubuntu bionic/main amd64 python-enum34 all 1.1.6-2 [34.8 kB]\n",
            "Get:10 http://archive.ubuntu.com/ubuntu bionic/main amd64 python-idna all 2.6-1 [32.4 kB]\n",
            "Get:11 http://archive.ubuntu.com/ubuntu bionic/main amd64 python-ipaddress all 1.0.17-1 [18.2 kB]\n",
            "Get:12 http://archive.ubuntu.com/ubuntu bionic/main amd64 python-six all 1.11.0-2 [11.3 kB]\n",
            "Get:13 http://archive.ubuntu.com/ubuntu bionic-updates/main amd64 python-cryptography amd64 2.1.4-1ubuntu1.3 [221 kB]\n",
            "Get:14 http://archive.ubuntu.com/ubuntu bionic/main amd64 python-itsdangerous all 0.24+dfsg1-2 [11.9 kB]\n",
            "Get:15 http://archive.ubuntu.com/ubuntu bionic/main amd64 python-markupsafe amd64 1.0-1build1 [13.0 kB]\n",
            "Get:16 http://archive.ubuntu.com/ubuntu bionic-updates/main amd64 python-jinja2 all 2.10-1ubuntu0.18.04.1 [94.8 kB]\n",
            "Get:17 http://archive.ubuntu.com/ubuntu bionic/main amd64 python-werkzeug all 0.14.1+dfsg1-1 [174 kB]\n",
            "Get:18 http://archive.ubuntu.com/ubuntu bionic/main amd64 python-flask all 0.12.2-3 [62.1 kB]\n",
            "Get:19 http://archive.ubuntu.com/ubuntu bionic/main amd64 python3-pil amd64 5.1.0-1 [328 kB]\n",
            "Get:20 http://archive.ubuntu.com/ubuntu bionic/universe amd64 python3-openslide amd64 1.1.1-2ubuntu4 [16.1 kB]\n",
            "Get:21 http://archive.ubuntu.com/ubuntu bionic/universe amd64 python-openslide-examples all 1.1.1-2ubuntu4 [168 kB]\n",
            "Get:22 http://archive.ubuntu.com/ubuntu bionic/main amd64 python-openssl all 17.5.0-1ubuntu1 [41.3 kB]\n",
            "Get:23 http://archive.ubuntu.com/ubuntu bionic/main amd64 python-pkg-resources all 39.0.1-2 [128 kB]\n",
            "Get:24 http://archive.ubuntu.com/ubuntu bionic/main amd64 python-pyinotify all 0.9.6-1 [24.6 kB]\n",
            "Get:25 http://archive.ubuntu.com/ubuntu bionic/main amd64 python-simplejson amd64 3.13.2-1 [61.2 kB]\n",
            "Get:26 http://archive.ubuntu.com/ubuntu bionic/main amd64 python3-olefile all 0.45.1-1 [33.3 kB]\n",
            "Fetched 1,940 kB in 10s (188 kB/s)\n",
            "Selecting previously unselected package javascript-common.\n",
            "(Reading database ... 131183 files and directories currently installed.)\n",
            "Preparing to unpack .../00-javascript-common_11_all.deb ...\n",
            "Unpacking javascript-common (11) ...\n",
            "Selecting previously unselected package libjs-jquery.\n",
            "Preparing to unpack .../01-libjs-jquery_3.2.1-1_all.deb ...\n",
            "Unpacking libjs-jquery (3.2.1-1) ...\n",
            "Selecting previously unselected package libopenslide0.\n",
            "Preparing to unpack .../02-libopenslide0_3.4.1+dfsg-2_amd64.deb ...\n",
            "Unpacking libopenslide0 (3.4.1+dfsg-2) ...\n",
            "Selecting previously unselected package python-asn1crypto.\n",
            "Preparing to unpack .../03-python-asn1crypto_0.24.0-1_all.deb ...\n",
            "Unpacking python-asn1crypto (0.24.0-1) ...\n",
            "Selecting previously unselected package python-blinker.\n",
            "Preparing to unpack .../04-python-blinker_1.4+dfsg1-0.1_all.deb ...\n",
            "Unpacking python-blinker (1.4+dfsg1-0.1) ...\n",
            "Selecting previously unselected package python-cffi-backend.\n",
            "Preparing to unpack .../05-python-cffi-backend_1.11.5-1_amd64.deb ...\n",
            "Unpacking python-cffi-backend (1.11.5-1) ...\n",
            "Selecting previously unselected package python-colorama.\n",
            "Preparing to unpack .../06-python-colorama_0.3.7-1_all.deb ...\n",
            "Unpacking python-colorama (0.3.7-1) ...\n",
            "Selecting previously unselected package python-click.\n",
            "Preparing to unpack .../07-python-click_6.7-3_all.deb ...\n",
            "Unpacking python-click (6.7-3) ...\n",
            "Selecting previously unselected package python-enum34.\n",
            "Preparing to unpack .../08-python-enum34_1.1.6-2_all.deb ...\n",
            "Unpacking python-enum34 (1.1.6-2) ...\n",
            "Selecting previously unselected package python-idna.\n",
            "Preparing to unpack .../09-python-idna_2.6-1_all.deb ...\n",
            "Unpacking python-idna (2.6-1) ...\n",
            "Selecting previously unselected package python-ipaddress.\n",
            "Preparing to unpack .../10-python-ipaddress_1.0.17-1_all.deb ...\n",
            "Unpacking python-ipaddress (1.0.17-1) ...\n",
            "Selecting previously unselected package python-six.\n",
            "Preparing to unpack .../11-python-six_1.11.0-2_all.deb ...\n",
            "Unpacking python-six (1.11.0-2) ...\n",
            "Selecting previously unselected package python-cryptography.\n",
            "Preparing to unpack .../12-python-cryptography_2.1.4-1ubuntu1.3_amd64.deb ...\n",
            "Unpacking python-cryptography (2.1.4-1ubuntu1.3) ...\n",
            "Selecting previously unselected package python-itsdangerous.\n",
            "Preparing to unpack .../13-python-itsdangerous_0.24+dfsg1-2_all.deb ...\n",
            "Unpacking python-itsdangerous (0.24+dfsg1-2) ...\n",
            "Selecting previously unselected package python-markupsafe.\n",
            "Preparing to unpack .../14-python-markupsafe_1.0-1build1_amd64.deb ...\n",
            "Unpacking python-markupsafe (1.0-1build1) ...\n",
            "Selecting previously unselected package python-jinja2.\n",
            "Preparing to unpack .../15-python-jinja2_2.10-1ubuntu0.18.04.1_all.deb ...\n",
            "Unpacking python-jinja2 (2.10-1ubuntu0.18.04.1) ...\n",
            "Selecting previously unselected package python-werkzeug.\n",
            "Preparing to unpack .../16-python-werkzeug_0.14.1+dfsg1-1_all.deb ...\n",
            "Unpacking python-werkzeug (0.14.1+dfsg1-1) ...\n",
            "Selecting previously unselected package python-flask.\n",
            "Preparing to unpack .../17-python-flask_0.12.2-3_all.deb ...\n",
            "Unpacking python-flask (0.12.2-3) ...\n",
            "Selecting previously unselected package python3-pil:amd64.\n",
            "Preparing to unpack .../18-python3-pil_5.1.0-1_amd64.deb ...\n",
            "Unpacking python3-pil:amd64 (5.1.0-1) ...\n",
            "Selecting previously unselected package python3-openslide.\n",
            "Preparing to unpack .../19-python3-openslide_1.1.1-2ubuntu4_amd64.deb ...\n",
            "Unpacking python3-openslide (1.1.1-2ubuntu4) ...\n",
            "Selecting previously unselected package python-openslide-examples.\n",
            "Preparing to unpack .../20-python-openslide-examples_1.1.1-2ubuntu4_all.deb ...\n",
            "Unpacking python-openslide-examples (1.1.1-2ubuntu4) ...\n",
            "Selecting previously unselected package python-openssl.\n",
            "Preparing to unpack .../21-python-openssl_17.5.0-1ubuntu1_all.deb ...\n",
            "Unpacking python-openssl (17.5.0-1ubuntu1) ...\n",
            "Selecting previously unselected package python-pkg-resources.\n",
            "Preparing to unpack .../22-python-pkg-resources_39.0.1-2_all.deb ...\n",
            "Unpacking python-pkg-resources (39.0.1-2) ...\n",
            "Selecting previously unselected package python-pyinotify.\n",
            "Preparing to unpack .../23-python-pyinotify_0.9.6-1_all.deb ...\n",
            "Unpacking python-pyinotify (0.9.6-1) ...\n",
            "Selecting previously unselected package python-simplejson.\n",
            "Preparing to unpack .../24-python-simplejson_3.13.2-1_amd64.deb ...\n",
            "Unpacking python-simplejson (3.13.2-1) ...\n",
            "Selecting previously unselected package python3-olefile.\n",
            "Preparing to unpack .../25-python3-olefile_0.45.1-1_all.deb ...\n",
            "Unpacking python3-olefile (0.45.1-1) ...\n",
            "Setting up python-idna (2.6-1) ...\n",
            "Setting up python-simplejson (3.13.2-1) ...\n",
            "Setting up libjs-jquery (3.2.1-1) ...\n",
            "Setting up python-asn1crypto (0.24.0-1) ...\n",
            "Setting up python3-pil:amd64 (5.1.0-1) ...\n",
            "Setting up python-blinker (1.4+dfsg1-0.1) ...\n",
            "Setting up python3-olefile (0.45.1-1) ...\n",
            "Setting up python-colorama (0.3.7-1) ...\n",
            "Setting up python-pkg-resources (39.0.1-2) ...\n",
            "Setting up python-markupsafe (1.0-1build1) ...\n",
            "Setting up python-werkzeug (0.14.1+dfsg1-1) ...\n",
            "Setting up python-pyinotify (0.9.6-1) ...\n",
            "Setting up python-cffi-backend (1.11.5-1) ...\n",
            "Setting up python-six (1.11.0-2) ...\n",
            "Setting up libopenslide0 (3.4.1+dfsg-2) ...\n",
            "Processing triggers for libc-bin (2.27-3ubuntu1) ...\n",
            "Setting up python-enum34 (1.1.6-2) ...\n",
            "Setting up javascript-common (11) ...\n",
            "Setting up python-itsdangerous (0.24+dfsg1-2) ...\n",
            "Setting up python-ipaddress (1.0.17-1) ...\n",
            "Setting up python-jinja2 (2.10-1ubuntu0.18.04.1) ...\n",
            "Setting up python-click (6.7-3) ...\n",
            "Setting up python3-openslide (1.1.1-2ubuntu4) ...\n",
            "Setting up python-cryptography (2.1.4-1ubuntu1.3) ...\n",
            "Setting up python-flask (0.12.2-3) ...\n",
            "Setting up python-openssl (17.5.0-1ubuntu1) ...\n",
            "Setting up python-openslide-examples (1.1.1-2ubuntu4) ...\n"
          ],
          "name": "stdout"
        }
      ]
    },
    {
      "cell_type": "code",
      "metadata": {
        "id": "_C5yG-rumXNc",
        "colab_type": "code",
        "outputId": "79b197d2-c651-4c04-e882-81a0a65935c5",
        "colab": {
          "base_uri": "https://localhost:8080/",
          "height": 156
        }
      },
      "source": [
        "!git clone https://github.com/javadnoorb/HistCNN.git"
      ],
      "execution_count": 3,
      "outputs": [
        {
          "output_type": "stream",
          "text": [
            "Cloning into 'HistCNN'...\n",
            "remote: Enumerating objects: 137, done.\u001b[K\n",
            "remote: Counting objects:   0% (1/137)\u001b[K\rremote: Counting objects:   1% (2/137)\u001b[K\rremote: Counting objects:   2% (3/137)\u001b[K\rremote: Counting objects:   3% (5/137)\u001b[K\rremote: Counting objects:   4% (6/137)\u001b[K\rremote: Counting objects:   5% (7/137)\u001b[K\rremote: Counting objects:   6% (9/137)\u001b[K\rremote: Counting objects:   7% (10/137)\u001b[K\rremote: Counting objects:   8% (11/137)\u001b[K\rremote: Counting objects:   9% (13/137)\u001b[K\rremote: Counting objects:  10% (14/137)\u001b[K\rremote: Counting objects:  11% (16/137)\u001b[K\rremote: Counting objects:  12% (17/137)\u001b[K\rremote: Counting objects:  13% (18/137)\u001b[K\rremote: Counting objects:  14% (20/137)\u001b[K\rremote: Counting objects:  15% (21/137)\u001b[K\rremote: Counting objects:  16% (22/137)\u001b[K\rremote: Counting objects:  17% (24/137)\u001b[K\rremote: Counting objects:  18% (25/137)\u001b[K\rremote: Counting objects:  19% (27/137)\u001b[K\rremote: Counting objects:  20% (28/137)\u001b[K\rremote: Counting objects:  21% (29/137)\u001b[K\rremote: Counting objects:  22% (31/137)\u001b[K\rremote: Counting objects:  23% (32/137)\u001b[K\rremote: Counting objects:  24% (33/137)\u001b[K\rremote: Counting objects:  25% (35/137)\u001b[K\rremote: Counting objects:  26% (36/137)\u001b[K\rremote: Counting objects:  27% (37/137)\u001b[K\rremote: Counting objects:  28% (39/137)\u001b[K\rremote: Counting objects:  29% (40/137)\u001b[K\rremote: Counting objects:  30% (42/137)\u001b[K\rremote: Counting objects:  31% (43/137)\u001b[K\rremote: Counting objects:  32% (44/137)\u001b[K\rremote: Counting objects:  33% (46/137)\u001b[K\rremote: Counting objects:  34% (47/137)\u001b[K\rremote: Counting objects:  35% (48/137)\u001b[K\rremote: Counting objects:  36% (50/137)\u001b[K\rremote: Counting objects:  37% (51/137)\u001b[K\rremote: Counting objects:  38% (53/137)\u001b[K\rremote: Counting objects:  39% (54/137)\u001b[K\rremote: Counting objects:  40% (55/137)\u001b[K\rremote: Counting objects:  41% (57/137)\u001b[K\rremote: Counting objects:  42% (58/137)\u001b[K\rremote: Counting objects:  43% (59/137)\u001b[K\rremote: Counting objects:  44% (61/137)\u001b[K\rremote: Counting objects:  45% (62/137)\u001b[K\rremote: Counting objects:  46% (64/137)\u001b[K\rremote: Counting objects:  47% (65/137)\u001b[K\rremote: Counting objects:  48% (66/137)\u001b[K\rremote: Counting objects:  49% (68/137)\u001b[K\rremote: Counting objects:  50% (69/137)\u001b[K\rremote: Counting objects:  51% (70/137)\u001b[K\rremote: Counting objects:  52% (72/137)\u001b[K\rremote: Counting objects:  53% (73/137)\u001b[K\rremote: Counting objects:  54% (74/137)\u001b[K\rremote: Counting objects:  55% (76/137)\u001b[K\rremote: Counting objects:  56% (77/137)\u001b[K\rremote: Counting objects:  57% (79/137)\u001b[K\rremote: Counting objects:  58% (80/137)\u001b[K\rremote: Counting objects:  59% (81/137)\u001b[K\rremote: Counting objects:  60% (83/137)\u001b[K\rremote: Counting objects:  61% (84/137)\u001b[K\rremote: Counting objects:  62% (85/137)\u001b[K\rremote: Counting objects:  63% (87/137)\u001b[K\rremote: Counting objects:  64% (88/137)\u001b[K\rremote: Counting objects:  65% (90/137)\u001b[K\rremote: Counting objects:  66% (91/137)\u001b[K\rremote: Counting objects:  67% (92/137)\u001b[K\rremote: Counting objects:  68% (94/137)\u001b[K\rremote: Counting objects:  69% (95/137)\u001b[K\rremote: Counting objects:  70% (96/137)\u001b[K\rremote: Counting objects:  71% (98/137)\u001b[K\rremote: Counting objects:  72% (99/137)\u001b[K\rremote: Counting objects:  73% (101/137)\u001b[K\rremote: Counting objects:  74% (102/137)\u001b[K\rremote: Counting objects:  75% (103/137)\u001b[K\rremote: Counting objects:  76% (105/137)\u001b[K\rremote: Counting objects:  77% (106/137)\u001b[K\rremote: Counting objects:  78% (107/137)\u001b[K\rremote: Counting objects:  79% (109/137)\u001b[K\rremote: Counting objects:  80% (110/137)\u001b[K\rremote: Counting objects:  81% (111/137)\u001b[K\rremote: Counting objects:  82% (113/137)\u001b[K\rremote: Counting objects:  83% (114/137)\u001b[K\rremote: Counting objects:  84% (116/137)\u001b[K\rremote: Counting objects:  85% (117/137)\u001b[K\rremote: Counting objects:  86% (118/137)\u001b[K\rremote: Counting objects:  87% (120/137)\u001b[K\rremote: Counting objects:  88% (121/137)\u001b[K\rremote: Counting objects:  89% (122/137)\u001b[K\rremote: Counting objects:  90% (124/137)\u001b[K\rremote: Counting objects:  91% (125/137)\u001b[K\rremote: Counting objects:  92% (127/137)\u001b[K\rremote: Counting objects:  93% (128/137)\u001b[K\rremote: Counting objects:  94% (129/137)\u001b[K\rremote: Counting objects:  95% (131/137)\u001b[K\rremote: Counting objects:  96% (132/137)\u001b[K\rremote: Counting objects:  97% (133/137)\u001b[K\rremote: Counting objects:  98% (135/137)\u001b[K\rremote: Counting objects:  99% (136/137)\u001b[K\rremote: Counting objects: 100% (137/137)\u001b[K\rremote: Counting objects: 100% (137/137), done.\u001b[K\n",
            "remote: Compressing objects: 100% (80/80), done.\u001b[K\n",
            "remote: Total 137 (delta 59), reused 122 (delta 50), pack-reused 0\u001b[K\n",
            "Receiving objects: 100% (137/137), 91.42 MiB | 36.93 MiB/s, done.\n",
            "Resolving deltas: 100% (59/59), done.\n",
            "Checking out files: 100% (112/112), done.\n"
          ],
          "name": "stdout"
        }
      ]
    },
    {
      "cell_type": "code",
      "metadata": {
        "id": "vibaz1WiuPIO",
        "colab_type": "code",
        "outputId": "bfc07b52-ad78-4011-c6f0-64399351322e",
        "colab": {
          "base_uri": "https://localhost:8080/",
          "height": 35
        }
      },
      "source": [
        "%cd ./HistCNN/src"
      ],
      "execution_count": 4,
      "outputs": [
        {
          "output_type": "stream",
          "text": [
            "/content/HistCNN/src\n"
          ],
          "name": "stdout"
        }
      ]
    },
    {
      "cell_type": "code",
      "metadata": {
        "id": "xFX_-6jOqES_",
        "colab_type": "code",
        "colab": {}
      },
      "source": [
        "from histcnn import tile_image"
      ],
      "execution_count": 0,
      "outputs": []
    },
    {
      "cell_type": "markdown",
      "metadata": {
        "id": "z1f6FJ5M3p6b",
        "colab_type": "text"
      },
      "source": [
        "## Data Loading"
      ]
    },
    {
      "cell_type": "code",
      "metadata": {
        "id": "iGv7zn5rod57",
        "colab_type": "code",
        "colab": {}
      },
      "source": [
        "from google.colab import auth\n",
        "auth.authenticate_user()"
      ],
      "execution_count": 0,
      "outputs": []
    },
    {
      "cell_type": "code",
      "metadata": {
        "id": "Qowo46yo3t2L",
        "colab_type": "code",
        "colab": {
          "base_uri": "https://localhost:8080/",
          "height": 1000
        },
        "outputId": "c34e8cc7-e080-49a0-cddc-be26ebd385c5"
      },
      "source": [
        "!gsutil -m cp gs://deep-nexus-tcga-raw/CHOL/CHOL_all_images/*.svs /content/sample_data/"
      ],
      "execution_count": 16,
      "outputs": [
        {
          "output_type": "stream",
          "text": [
            "Copying gs://deep-nexus-tcga-raw/CHOL/CHOL_all_images/TCGA-3X-AAVA-01A-01-TSA.11217DC9-A3A3-4676-905A-3287954CA3BE.svs...\n",
            "Copying gs://deep-nexus-tcga-raw/CHOL/CHOL_all_images/TCGA-3X-AAV9-01A-07-TS7.38564686-5D08-4066-98EE-F1E5A4FB85F1.svs...\n",
            "Copying gs://deep-nexus-tcga-raw/CHOL/CHOL_all_images/TCGA-4G-AAZF-01A-01-TS1.931060C2-F13F-43ED-A8D2-44A005B9E545.svs...\n",
            "Copying gs://deep-nexus-tcga-raw/CHOL/CHOL_all_images/TCGA-4G-AAZF-11A-01-TS1.C2861329-3F68-4BEF-BA54-ECB5251ACB1A.svs...\n",
            "Copying gs://deep-nexus-tcga-raw/CHOL/CHOL_all_images/TCGA-3X-AAVB-01A-03-TSC.7C63E346-3B04-474A-AA94-E37B57D2263B.svs...\n",
            "Copying gs://deep-nexus-tcga-raw/CHOL/CHOL_all_images/TCGA-4G-AAZG-01A-01-TS1.2831B8F1-9788-417C-8288-B105880E5F92.svs...\n",
            "/ [0 files][    0.0 B/309.3 MiB]                                                \r/ [0 files][    0.0 B/725.0 MiB]                                                \r/ [0 files][    0.0 B/ 1021 MiB]                                                \r/ [0 files][    0.0 B/  1.1 GiB]                                                \r/ [0 files][    0.0 B/  1.5 GiB]                                                \r/ [0/71 files][    0.0 B/ 16.4 GiB]   0% Done                                   \rCopying gs://deep-nexus-tcga-raw/CHOL/CHOL_all_images/TCGA-3X-AAVC-01A-02-TSB.0FCFEC9B-166D-4CD9-B151-463144AB039C.svs...\n",
            "/ [0/71 files][    0.0 B/ 16.4 GiB]   0% Done                                   \rCopying gs://deep-nexus-tcga-raw/CHOL/CHOL_all_images/TCGA-3X-AAVE-01A-01-TS1.0AA02C15-A873-446F-B290-5952E2C1D1BE.svs...\n",
            "Copying gs://deep-nexus-tcga-raw/CHOL/CHOL_all_images/TCGA-4G-AAZO-01A-01-TS1.6B4F7D2A-3AD9-4BA0-92AE-020618504740.svs...\n",
            "Copying gs://deep-nexus-tcga-raw/CHOL/CHOL_all_images/TCGA-4G-AAZO-11A-01-TS1.8AC8DBDE-0535-4232-B785-C355BA604E61.svs...\n",
            "Copying gs://deep-nexus-tcga-raw/CHOL/CHOL_all_images/TCGA-4G-AAZR-01A-01-TS1.26D227F7-7627-43AF-A684-5D0BF0253E00.svs...\n",
            "Copying gs://deep-nexus-tcga-raw/CHOL/CHOL_all_images/TCGA-4G-AAZR-11A-01-TS1.3F01FAF4-E56C-4D12-8EF3-31960B47E00A.svs...\n",
            "Copying gs://deep-nexus-tcga-raw/CHOL/CHOL_all_images/TCGA-4G-AAZT-01A-01-TS1.0E610786-FBA0-4BD8-A6F8-8B2707070992.svs...\n",
            "Copying gs://deep-nexus-tcga-raw/CHOL/CHOL_all_images/TCGA-4G-AAZT-11A-01-TS1.D2B6EE2B-B0BF-4262-9E08-62B67ABD9C42.svs...\n",
            "Copying gs://deep-nexus-tcga-raw/CHOL/CHOL_all_images/TCGA-5A-A8ZF-01A-01-TSA.184BA819-6C0C-4E68-8508-7DB42A183A76.svs...\n",
            "Copying gs://deep-nexus-tcga-raw/CHOL/CHOL_all_images/TCGA-5A-A8ZG-01A-01-TS1.694DE97B-58AF-4F94-961B-5F3D215F53F0.svs...\n",
            "Copying gs://deep-nexus-tcga-raw/CHOL/CHOL_all_images/TCGA-W5-AA2H-01A-03-TSC.0B5D214B-4E40-4CE3-AFDF-D435754E6A34.svs...\n",
            "Copying gs://deep-nexus-tcga-raw/CHOL/CHOL_all_images/TCGA-W5-AA2G-01A-01-TSA.218C4E4D-766E-4CA4-8E27-ADFE132C3F1F.svs...\n",
            "Copying gs://deep-nexus-tcga-raw/CHOL/CHOL_all_images/TCGA-W5-AA2I-01A-03-TSC.5BD2E12B-5F9F-4B24-B516-A026BAA06C71.svs...\n",
            "Copying gs://deep-nexus-tcga-raw/CHOL/CHOL_all_images/TCGA-W5-AA2I-11A-01-TSA.A5550410-60AE-4379-9D50-C7FC484CA9BC.svs...\n",
            "Copying gs://deep-nexus-tcga-raw/CHOL/CHOL_all_images/TCGA-W5-AA2J-01A-03-TSC.28A3ECB6-8103-4083-8663-E06029B1819B.svs...\n",
            "Copying gs://deep-nexus-tcga-raw/CHOL/CHOL_all_images/TCGA-W5-AA2K-01A-01-TSA.8D5B728E-7C86-46BA-8620-4579225A2E99.svs...\n",
            "Copying gs://deep-nexus-tcga-raw/CHOL/CHOL_all_images/TCGA-W5-AA2M-01A-01-TS1.1D5EF56C-B323-4C6E-831E-CE6C6F5B5809.svs...\n",
            "Copying gs://deep-nexus-tcga-raw/CHOL/CHOL_all_images/TCGA-W5-AA2O-01A-01-TSA.90E7868E-0605-43FD-A4A5-A2C0A6AC3AEE.svs...\n",
            "Copying gs://deep-nexus-tcga-raw/CHOL/CHOL_all_images/TCGA-W5-AA2O-11A-01-TSA.363CC77B-9C52-4E8E-8154-FD3A5870AD8E.svs...\n",
            "Copying gs://deep-nexus-tcga-raw/CHOL/CHOL_all_images/TCGA-W5-AA2Q-01A-01-TSA.1602441F-2B92-467C-A64E-9C3B15453794.svs...\n",
            "Copying gs://deep-nexus-tcga-raw/CHOL/CHOL_all_images/TCGA-W5-AA2Q-11A-01-TSA.32060CDF-78E2-4795-888B-8FF068B7C578.svs...\n",
            "Copying gs://deep-nexus-tcga-raw/CHOL/CHOL_all_images/TCGA-W5-AA2R-01A-01-TSA.92296CAC-C184-438F-8282-9DC3786C0412.svs...\n",
            "Copying gs://deep-nexus-tcga-raw/CHOL/CHOL_all_images/TCGA-W5-AA2R-11A-01-TS1.32EE025C-FFAD-4ED0-8D0E-8BCDC0FA44A9.svs...\n",
            "Copying gs://deep-nexus-tcga-raw/CHOL/CHOL_all_images/TCGA-W5-AA2T-01A-01-TS1.F9D87772-3039-4DF4-B7C7-66B9DCA8FEF9.svs...\n",
            "Copying gs://deep-nexus-tcga-raw/CHOL/CHOL_all_images/TCGA-W5-AA2T-11A-01-TS1.2D5FEFBA-7424-45EB-BF51-7253A6559688.svs...\n",
            "Copying gs://deep-nexus-tcga-raw/CHOL/CHOL_all_images/TCGA-W5-AA2U-01A-01-TS1.62A11EF4-41F3-4F13-A408-20D1BCB6DED8.svs...\n",
            "Copying gs://deep-nexus-tcga-raw/CHOL/CHOL_all_images/TCGA-W5-AA2U-11A-01-TS1.316AF912-A850-4280-BE94-4D5CA1517468.svs...\n",
            "Copying gs://deep-nexus-tcga-raw/CHOL/CHOL_all_images/TCGA-W5-AA2W-01A-01-TS1.2BE0BA42-3D4D-485B-B3EA-B721F2018FF5.svs...\n",
            "Copying gs://deep-nexus-tcga-raw/CHOL/CHOL_all_images/TCGA-W5-AA2X-01A-01-TS1.C8860CDC-4358-4ED6-839A-E551BD2CBC21.svs...\n",
            "Copying gs://deep-nexus-tcga-raw/CHOL/CHOL_all_images/TCGA-W5-AA2X-11A-01-TSA.E81ED3CE-0609-40EF-BAB9-831BCC1880CE.svs...\n",
            "Copying gs://deep-nexus-tcga-raw/CHOL/CHOL_all_images/TCGA-W5-AA2Z-01A-01-TS1.7E99B675-59B0-4A6D-AAB0-40999E475316.svs...\n",
            "Copying gs://deep-nexus-tcga-raw/CHOL/CHOL_all_images/TCGA-W5-AA2Z-11A-01-TSA.2933F8FC-AE3E-4DF4-B469-ACC4AA7F5D7C.svs...\n",
            "Copying gs://deep-nexus-tcga-raw/CHOL/CHOL_all_images/TCGA-W5-AA30-01A-03-TS3.43CEE268-44B1-49C6-AA78-0EFC959FEE72.svs...\n",
            "Copying gs://deep-nexus-tcga-raw/CHOL/CHOL_all_images/TCGA-W5-AA30-11A-01-TSA.21DF9099-AB85-42F2-8027-4233D1308300.svs...\n",
            "Copying gs://deep-nexus-tcga-raw/CHOL/CHOL_all_images/TCGA-W5-AA31-01A-01-TS1.E821D3A3-4E10-4336-9E5D-8D8FEE937B9B.svs...\n",
            "Copying gs://deep-nexus-tcga-raw/CHOL/CHOL_all_images/TCGA-W5-AA31-11A-01-TS1.DDD15A26-27AE-4C72-AB59-5F8DFD3346B2.svs...\n",
            "Copying gs://deep-nexus-tcga-raw/CHOL/CHOL_all_images/TCGA-W5-AA33-01A-01-TS1.A6CE040F-F2D8-4325-A05E-31A4F793843F.svs...\n",
            "Copying gs://deep-nexus-tcga-raw/CHOL/CHOL_all_images/TCGA-W5-AA33-11A-01-TSA.1DB69B70-BB4A-408D-981D-D4CB42932183.svs...\n",
            "Copying gs://deep-nexus-tcga-raw/CHOL/CHOL_all_images/TCGA-W5-AA34-01A-01-TS1.F296E1B4-AC9C-4145-B473-0AE2FAF71B06.svs...\n",
            "Copying gs://deep-nexus-tcga-raw/CHOL/CHOL_all_images/TCGA-W5-AA34-11A-01-TSA.273F93C0-D071-48F0-8EF8-94C86EC75A68.svs...\n",
            "Copying gs://deep-nexus-tcga-raw/CHOL/CHOL_all_images/TCGA-W5-AA36-01A-01-TS1.6386EE7C-0C81-4B8F-B76D-5479A5BC7850.svs...\n",
            "Copying gs://deep-nexus-tcga-raw/CHOL/CHOL_all_images/TCGA-W5-AA38-01A-01-TSA.87432545-5F32-411B-942A-E4ADF8CC6AC3.svs...\n",
            "Copying gs://deep-nexus-tcga-raw/CHOL/CHOL_all_images/TCGA-W5-AA39-01A-01-TS1.69BA9FA7-0E57-4862-8A11-62570DF1A8C0.svs...\n",
            "Copying gs://deep-nexus-tcga-raw/CHOL/CHOL_all_images/TCGA-W6-AA0S-01A-01-TSA.B5B0E8A3-CF2B-4C64-8BB9-2735170C19D1.svs...\n",
            "Copying gs://deep-nexus-tcga-raw/CHOL/CHOL_all_images/TCGA-W6-AA0T-01A-03-TSC.42C3C6AD-E2C4-4BE7-A16C-21AB9BFB116B.svs...\n",
            "Copying gs://deep-nexus-tcga-raw/CHOL/CHOL_all_images/TCGA-W7-A93N-01A-01-TSA.962EF446-B489-4E32-B8A7-F4500984EC30.svs...\n",
            "Copying gs://deep-nexus-tcga-raw/CHOL/CHOL_all_images/TCGA-W7-A93N-11A-01-TSA.A9BEAE46-78BD-4F2F-AF5B-8FF05C3C4811.svs...\n",
            "Copying gs://deep-nexus-tcga-raw/CHOL/CHOL_all_images/TCGA-W7-A93O-01A-03-TS3.E75E41B9-352F-45AB-A58B-1088D9FE39BC.svs...\n",
            "Copying gs://deep-nexus-tcga-raw/CHOL/CHOL_all_images/TCGA-W7-A93O-11A-01-TSA.92CB923D-7087-429D-9199-CBB3FFBA3B48.svs...\n",
            "Copying gs://deep-nexus-tcga-raw/CHOL/CHOL_all_images/TCGA-W7-A93P-01A-01-TSA.BC3D724D-9544-4F38-BF0C-3518EC922CC2.svs...\n",
            "Copying gs://deep-nexus-tcga-raw/CHOL/CHOL_all_images/TCGA-W7-A93P-11A-01-TSA.9EF4E8AF-F9D0-4D78-9889-931D62FF34FE.svs...\n",
            "Copying gs://deep-nexus-tcga-raw/CHOL/CHOL_all_images/TCGA-WD-A7RX-01A-01-TSA.45E6186F-0AEC-4403-AFE9-0B8630E8D225.svs...\n",
            "Copying gs://deep-nexus-tcga-raw/CHOL/CHOL_all_images/TCGA-YR-A95A-01A-01-TSA.81FA50C6-E1D0-49E0-9E01-8389EF99ED76.svs...\n",
            "Copying gs://deep-nexus-tcga-raw/CHOL/CHOL_all_images/TCGA-ZD-A8I3-01A-01-TSA.0925713D-CE8D-4090-8886-DD6C2693E020.svs...\n",
            "Copying gs://deep-nexus-tcga-raw/CHOL/CHOL_all_images/TCGA-ZH-A8Y1-01A-01-TS1.E8568997-1F13-4A79-8DAE-3F76055A4C08.svs...\n",
            "Copying gs://deep-nexus-tcga-raw/CHOL/CHOL_all_images/TCGA-ZH-A8Y2-01A-01-TS1.9B298170-0B7A-4685-8EA3-3A2040AD9FFB.svs...\n",
            "Copying gs://deep-nexus-tcga-raw/CHOL/CHOL_all_images/TCGA-ZH-A8Y3-01A-01-TS1.3E1F5F39-FB85-4443-A8EA-072989E3EEB2.svs...\n",
            "Copying gs://deep-nexus-tcga-raw/CHOL/CHOL_all_images/TCGA-ZH-A8Y4-01A-01-TS1.DA0F8F25-4351-489B-B2A5-1C67542765AF.svs...\n",
            "Copying gs://deep-nexus-tcga-raw/CHOL/CHOL_all_images/TCGA-ZH-A8Y5-01A-01-TS1.7D6C4039-CDA3-4CB3-B040-D4DBB1FA9105.svs...\n",
            "Copying gs://deep-nexus-tcga-raw/CHOL/CHOL_all_images/TCGA-ZH-A8Y6-01A-01-TS1.2E276578-18E5-41AF-86E8-55761DD0AEF9.svs...\n",
            "Copying gs://deep-nexus-tcga-raw/CHOL/CHOL_all_images/TCGA-ZH-A8Y7-01A-02-TS2.44E6C687-F7BE-43EE-A0AE-F45392A4A3BB.svs...\n",
            "Copying gs://deep-nexus-tcga-raw/CHOL/CHOL_all_images/TCGA-ZH-A8Y8-01A-05-TSE.B924DE00-D688-4982-AE32-20BA28DEAFB0.svs...\n",
            "Copying gs://deep-nexus-tcga-raw/CHOL/CHOL_all_images/TCGA-ZK-AAYZ-01A-01-TSA.6E5B192E-FAEE-4E66-9008-5FC9FE76455B.svs...\n",
            "Copying gs://deep-nexus-tcga-raw/CHOL/CHOL_all_images/TCGA-ZU-A8S4-01A-01-TS1.741B0E52-9B2F-477E-ABA6-763B452D8985.svs...\n",
            "Copying gs://deep-nexus-tcga-raw/CHOL/CHOL_all_images/TCGA-ZU-A8S4-11A-01-TS1.D600B84A-256E-49B6-B88B-A17CB1F20CAD.svs...\n",
            "| [71/71 files][ 16.4 GiB/ 16.4 GiB] 100% Done     0.0 B/s                      \n",
            "Operation completed over 71 objects/16.4 GiB.                                    \n"
          ],
          "name": "stdout"
        }
      ]
    },
    {
      "cell_type": "markdown",
      "metadata": {
        "id": "aP4Ntt6jrloG",
        "colab_type": "text"
      },
      "source": [
        "## Tiling"
      ]
    },
    {
      "cell_type": "code",
      "metadata": {
        "id": "gqLM34-G3ubG",
        "colab_type": "code",
        "colab": {}
      },
      "source": [
        "import glob"
      ],
      "execution_count": 0,
      "outputs": []
    },
    {
      "cell_type": "code",
      "metadata": {
        "id": "711crsJP989Y",
        "colab_type": "code",
        "colab": {}
      },
      "source": [
        "my_list = glob.glob(\"/content/sample_data/*.svs\")"
      ],
      "execution_count": 0,
      "outputs": []
    },
    {
      "cell_type": "code",
      "metadata": {
        "id": "No7WPb_V_cPP",
        "colab_type": "code",
        "colab": {
          "base_uri": "https://localhost:8080/",
          "height": 104
        },
        "outputId": "4d599320-a455-4b38-a777-8a70c05e3ae7"
      },
      "source": [
        "my_list[:5]"
      ],
      "execution_count": 31,
      "outputs": [
        {
          "output_type": "execute_result",
          "data": {
            "text/plain": [
              "['/content/sample_data/TCGA-4G-AAZR-11A-01-TS1.3F01FAF4-E56C-4D12-8EF3-31960B47E00A.svs',\n",
              " '/content/sample_data/TCGA-5A-A8ZG-01A-01-TS1.694DE97B-58AF-4F94-961B-5F3D215F53F0.svs',\n",
              " '/content/sample_data/TCGA-W5-AA38-01A-01-TSA.87432545-5F32-411B-942A-E4ADF8CC6AC3.svs',\n",
              " '/content/sample_data/TCGA-4G-AAZF-01A-01-TS1.931060C2-F13F-43ED-A8D2-44A005B9E545.svs',\n",
              " '/content/sample_data/TCGA-W5-AA33-11A-01-TSA.1DB69B70-BB4A-408D-981D-D4CB42932183.svs']"
            ]
          },
          "metadata": {
            "tags": []
          },
          "execution_count": 31
        }
      ]
    },
    {
      "cell_type": "code",
      "metadata": {
        "id": "66WDu-l_xT9s",
        "colab_type": "code",
        "colab": {}
      },
      "source": [
        "outdir = '/image'"
      ],
      "execution_count": 0,
      "outputs": []
    },
    {
      "cell_type": "code",
      "metadata": {
        "id": "tikzbfT-ryXE",
        "colab_type": "code",
        "outputId": "92c9cb32-4bd1-46e9-db96-561bf4f55e7b",
        "colab": {
          "base_uri": "https://localhost:8080/",
          "height": 121
        }
      },
      "source": [
        "for file in my_list[:3]:\n",
        "  tile_image.TileSVS(file, outdir)"
      ],
      "execution_count": 33,
      "outputs": [
        {
          "output_type": "stream",
          "text": [
            "|****************************************| 100.0% - 1.0 / 1.0 minutes - (84/85,28/29)\n",
            "\n",
            "|****************************************| 100.0% - 5.9 / 5.9 minutes - (224/225,62/63)\n",
            "\n",
            "|****************************************| 100.0% - 4.4 / 4.4 minutes - (193/194,56/57)\n",
            "\n"
          ],
          "name": "stdout"
        }
      ]
    },
    {
      "cell_type": "code",
      "metadata": {
        "id": "ul6WIRCzqFsL",
        "colab_type": "code",
        "colab": {}
      },
      "source": [
        "#!zip -r /content/file.zip /image/123.svs/tiles"
      ],
      "execution_count": 0,
      "outputs": []
    }
  ]
}
